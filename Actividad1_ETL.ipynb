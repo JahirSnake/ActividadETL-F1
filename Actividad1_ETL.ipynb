{
 "cells": [
  {
   "cell_type": "code",
   "execution_count": 167,
   "metadata": {},
   "outputs": [],
   "source": [
    "import pyodbc\n",
    "import pandas as pd"
   ]
  },
  {
   "cell_type": "code",
   "execution_count": 168,
   "metadata": {},
   "outputs": [],
   "source": [
    "# importar los dos excel para agregar tablas a la BD\n",
    "\n",
    "rutaarchivo= 'Colocar ruta del acrhivo .xlsx",
    "\n",
    "hoja_estudiantes = 'Poblacion EstudiantilVAL'\n",
    "hoja_programas = 'programas'\n",
    "\n",
    "df_estudiantes=pd.read_excel(rutaarchivo, sheet_name=hoja_estudiantes)\n",
    "df_programas=pd.read_excel(rutaarchivo, sheet_name=hoja_programas)"
   ]
  },
  {
   "cell_type": "code",
   "execution_count": 169,
   "metadata": {},
   "outputs": [],
   "source": [
    "# crear conexion a BD\n",
    "server = '127.0.0.1'\n",
    "database = 'master'\n",
    "username = 'sa'\n",
    "password = '12345678'\n",
    "\n",
    "# se establece la conexion con sqlserver\n",
    "conn_str = f\"DRIVER={{SQL Server}};SERVER={server};DATABASE={database};UID={username};PWD={password}\"\n",
    "conn = pyodbc.connect(conn_str,autocommit=True)\n",
    "\n",
    "# se crea el cursor controlador\n",
    "cur = conn.cursor()"
   ]
  },
  {
   "cell_type": "code",
   "execution_count": 170,
   "metadata": {},
   "outputs": [
    {
     "name": "stdout",
     "output_type": "stream",
     "text": [
      "La base de datos 'actividadETL' ya existe.\n"
     ]
    }
   ],
   "source": [
    "# crear la base de datos actividadETL\n",
    "\n",
    "db_name = \"actividadETL\"\n",
    "\n",
    "#funcion para verificar si la base de datos existe\n",
    "\n",
    "\n",
    "try:\n",
    "    # Verificar si hay transacciones activas y hacer rollback si es necesario\n",
    "    cur.execute(\"IF @@TRANCOUNT > 0 ROLLBACK TRANSACTION\")\n",
    "\n",
    "    # Consultar si la base de datos existe\n",
    "    cur.execute(f\"SELECT name FROM sys.databases WHERE name = '{db_name}'\")\n",
    "    resultado = cur.fetchone()\n",
    "\n",
    "    if resultado:\n",
    "        print(f\"La base de datos '{db_name}' ya existe.\")\n",
    "    else:\n",
    "        cur.execute(f\"CREATE DATABASE {db_name}\")\n",
    "        print(f\"Base de datos '{db_name}' creada.\")\n",
    "\n",
    "    # Confirmar cambios\n",
    "    conn.commit()\n",
    "\n",
    "except Exception as e:\n",
    "    print(f\"No se pudo crear la base de datos: {e}\")\n",
    "    conn.rollback()\n",
    "\n"
   ]
  },
  {
   "cell_type": "code",
   "execution_count": null,
   "metadata": {},
   "outputs": [],
   "source": [
    "# Cambiar de base de datos master a actividadETL\n",
    "\n",
    "cur.close()\n",
    "conn.close() # se cierran la conexion y el cursor"
   ]
  },
  {
   "cell_type": "code",
   "execution_count": null,
   "metadata": {},
   "outputs": [],
   "source": [
    "# Conectarse a actividadETL\n",
    "conn_str = f\"DRIVER={{SQL Server}};SERVER={server};DATABASE={db_name};UID={username};PWD={password}\"\n",
    "conn = pyodbc.connect(conn_str)\n",
    "cur = conn.cursor()"
   ]
  },
  {
   "cell_type": "code",
   "execution_count": null,
   "metadata": {},
   "outputs": [
    {
     "name": "stdout",
     "output_type": "stream",
     "text": [
      "Tabla 'estudiantes' creada exitosamente.\n"
     ]
    }
   ],
   "source": [
    "\n",
    "# crear tabla estudiantes\n",
    "tabla = \"estudiantes\"\n",
    "\n",
    "try:\n",
    "    # Verificar si la tabla existe\n",
    "    cur.execute(f\"SELECT COUNT(*) FROM sys.tables WHERE name = '{tabla}'\")\n",
    "    resultado = cur.fetchone()\n",
    "\n",
    "    if resultado[0] > 0:\n",
    "        print(f\"La tabla '{tabla}' ya existe.\")\n",
    "    else:\n",
    "        # SQL para crear tabla estudiantes\n",
    "        \n",
    "        cur.execute(f\"\"\"\n",
    "            CREATE TABLE {tabla} (\n",
    "                [Periodo Reg] VARCHAR(100) NOT NULL,\n",
    "                cohorte VARCHAR(100) NOT NULL,\n",
    "                Periodo_Academico VARCHAR(100) NOT NULL,\n",
    "                Tipo_periodo VARCHAR(100) NOT NULL,\n",
    "                Año INT NOT NULL,\n",
    "                Numero_Identificacion VARCHAR(100) NOT NULL,\n",
    "                Codigo_Estudiante INT NOT NULL,\n",
    "                Cohorte1 VARCHAR(100) NOT NULL,\n",
    "                Tipo_Acceso VARCHAR(100) NOT NULL,\n",
    "                Nombre VARCHAR(100) NOT NULL,\n",
    "                Genero VARCHAR(100) NOT NULL,\n",
    "                Estado_Civil VARCHAR(100) NOT NULL,\n",
    "                Estrato_Economico VARCHAR(100) NOT NULL,\n",
    "                [llave percod] VARCHAR (100) PRIMARY KEY NOT NULL           \n",
    "            )\n",
    "        \"\"\")\n",
    "        print(f\"Tabla '{tabla}' creada exitosamente.\")\n",
    "    conn.commit() # confirmar los cambios\n",
    "except Exception as e:\n",
    "    print(f\"Error al verificar o crear la tabla: {e}\")\n",
    "    conn.rollback()    \n",
    "    \n",
    "\n",
    "\n",
    "   "
   ]
  },
  {
   "cell_type": "code",
   "execution_count": null,
   "metadata": {},
   "outputs": [
    {
     "name": "stdout",
     "output_type": "stream",
     "text": [
      "184990 registros insertados en 'estudiantes'.\n"
     ]
    }
   ],
   "source": [
    "\n",
    "\n",
    "# Insertar los datos del DataFrame estudiantes en la tabla estudiantes\n",
    "try:\n",
    "    for index, row in df_estudiantes.iterrows():\n",
    "        sql=f\"\"\"INSERT INTO {tabla} ([Periodo Reg], cohorte, Periodo_Academico, Tipo_periodo, Año, Numero_Identificacion, Codigo_Estudiante, \n",
    "            Cohorte1, Tipo_Acceso, Nombre, Genero, Estado_Civil, Estrato_Economico, [llave percod]) VALUES (?, ?, ?, ?, ?, ?, ?, ?, ?, ?, ?, ?, ?, ?) \"\"\"\n",
    "        cur.execute(sql,\n",
    "            row['Periodo Reg'], row['cohorte'], row['Periodo_Academico'], row['Tipo_periodo'], row['Año'],row['Numero_Identificacion'],\n",
    "            row['Codigo_Estudiante'],row['Cohorte'],row['Tipo_Acceso'],row['Nombre'],row['Genero'],row['Estado_Civil'],\n",
    "            row['Estrato_Economico'], row['llave percod']\n",
    "        )\n",
    "\n",
    "    conn.commit()  # Confirmar los cambios\n",
    "    print(f\"{len(df_estudiantes)} registros insertados en '{tabla}'.\")\n",
    "\n",
    "except Exception as e:\n",
    "    print(f\"Error en la fila {index}: {row.to_dict()}\")\n",
    "    print(f\"Error al crear la tabla o insertar datos: {e}\")\n",
    "    conn.rollback()"
   ]
  },
  {
   "cell_type": "code",
   "execution_count": null,
   "metadata": {},
   "outputs": [
    {
     "name": "stdout",
     "output_type": "stream",
     "text": [
      "Tabla 'programas' creada exitosamente.\n"
     ]
    }
   ],
   "source": [
    "# crear tabla programas\n",
    "tabla = \"programas\"\n",
    "\n",
    "try:\n",
    "    # Verificar si la tabla existe\n",
    "    cur.execute(f\"SELECT COUNT(*) FROM sys.tables WHERE name = '{tabla}'\")\n",
    "    resultado = cur.fetchone()\n",
    "\n",
    "    if resultado[0] > 0:\n",
    "        print(f\"La tabla '{tabla}' ya existe.\")\n",
    "    else:\n",
    "        # SQL para Crear la tabla programas\n",
    "        \n",
    "        cur.execute(f\"\"\"\n",
    "            CREATE TABLE {tabla} (\n",
    "                Periodo_Academico VARCHAR(100) NOT NULL,\n",
    "                Codigo_Estudiante INT NOT NULL,\n",
    "                Programa VARCHAR(100) NOT NULL,\n",
    "                Codigo_SNIES INT NOT NULL,\n",
    "                Ciclo VARCHAR(100) NOT NULL,\n",
    "                Facultad VARCHAR(100) NOT NULL,\n",
    "                Nivel_de_Formacion VARCHAR(100) NOT NULL,\n",
    "                [llave percod] VARCHAR(100) PRIMARY KEY NOT NULL,    \n",
    "                FOREIGN KEY ([llave percod]) REFERENCES estudiantes([llave percod])    \n",
    "            )\n",
    "        \"\"\")\n",
    "        print(f\"Tabla '{tabla}' creada exitosamente.\")\n",
    "    conn.commit() # confirmar los cambios\n",
    "except Exception as e:\n",
    "    print(f\"Error al verificar o crear la tabla: {e}\")\n",
    "    conn.rollback()"
   ]
  },
  {
   "cell_type": "code",
   "execution_count": null,
   "metadata": {},
   "outputs": [
    {
     "name": "stdout",
     "output_type": "stream",
     "text": [
      "184990 registros insertados en 'programas'.\n"
     ]
    }
   ],
   "source": [
    "# Insertar los datos del DataFrame programas en la tabla programas\n",
    "try:\n",
    "    for index, row in df_programas.iterrows():\n",
    "        sql=f\"\"\"INSERT INTO {tabla} (Periodo_Academico, Codigo_Estudiante, Programa, Codigo_SNIES, Ciclo, Facultad, Nivel_de_Formacion, [llave percod]) \n",
    "        VALUES (?, ?, ?, ?, ?, ?, ?, ?) \"\"\"\n",
    "        cur.execute(sql,\n",
    "            row['Periodo_Academico'], row['Codigo_Estudiante'], row['Programa'],row['Codigo_SNIES'], row['Ciclo'],row['Facultad'],row['Nivel_de_Formacion'],\n",
    "            row['llave percod']\n",
    "        )\n",
    "\n",
    "    conn.commit()  # Confirmar los cambios\n",
    "    print(f\"{len(df_programas)} registros insertados en '{tabla}'.\")\n",
    "\n",
    "except Exception as e:\n",
    "    print(f\"Error en la fila {index}: {row.to_dict()}\")\n",
    "    print(f\"Error al crear la tabla o insertar datos: {e}\")\n",
    "    conn.rollback()"
   ]
  },
  {
   "cell_type": "code",
   "execution_count": null,
   "metadata": {},
   "outputs": [],
   "source": [
    "# Cerrar la conexión\n",
    "cur.close()\n",
    "conn.close()"
   ]
  }
 ],
 "metadata": {
  "kernelspec": {
   "display_name": "Python 3",
   "language": "python",
   "name": "python3"
  },
  "language_info": {
   "codemirror_mode": {
    "name": "ipython",
    "version": 3
   },
   "file_extension": ".py",
   "mimetype": "text/x-python",
   "name": "python",
   "nbconvert_exporter": "python",
   "pygments_lexer": "ipython3",
   "version": "3.11.0"
  }
 },
 "nbformat": 4,
 "nbformat_minor": 2
}
